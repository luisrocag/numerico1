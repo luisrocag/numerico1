{
 "cells": [
  {
   "cell_type": "markdown",
   "id": "92a43c27-70a3-4cd9-b791-8ffe90765fb0",
   "metadata": {},
   "source": [
    "# Householder"
   ]
  },
  {
   "cell_type": "code",
   "execution_count": 7,
   "id": "bf31444d-6687-440f-bf1f-ec290a47392c",
   "metadata": {},
   "outputs": [],
   "source": [
    "import numpy as np\n",
    "def factorQR(A):\n",
    "    (m,n) = A.shape\n",
    "    Q = np.eye(m)\n",
    "    R = np.zeros_like(A)\n",
    "    R[:,:] = A[:,:]\n",
    "    for k in range(n):\n",
    "        w = np.zeros([m,1])\n",
    "        s = np.linalg.norm(R[k:,k],2)\n",
    "        d = 1/np.sqrt(2*s*(s+np.abs(R[k,k])))\n",
    "        if (R[k,k]<0): \n",
    "            s=-s\n",
    "        w[k,0] = R[k,k] + s\n",
    "        w[k+1:,0] = R[k+1:,k]    \n",
    "        w = d*w\n",
    "        H = np.eye(m) - 2*w@w.T\n",
    "        R = H@R\n",
    "        Q = H@Q\n",
    "    Q = Q.T\n",
    "    return (Q,R)"
   ]
  },
  {
   "cell_type": "markdown",
   "id": "6c26caa3-dbf8-4bb0-bd49-433f63a850c6",
   "metadata": {},
   "source": [
    "## Ejemplo"
   ]
  },
  {
   "cell_type": "code",
   "execution_count": 106,
   "id": "7daca5cb-3df7-4afe-b158-c5b50dc906b9",
   "metadata": {},
   "outputs": [
    {
     "name": "stdout",
     "output_type": "stream",
     "text": [
      "[[-2.22044605e-15 -4.00000000e+00]\n",
      " [-4.93038066e-31 -1.77635684e-15]\n",
      " [-5.00000000e+00 -2.00000000e+00]]\n"
     ]
    }
   ],
   "source": [
    "A = np.array([ [0, -4],[0,0],[-5,-2] ])\n",
    "(Q,R) = factorQR(A)\n",
    "## verificamos si A =QR\n",
    "print(Q@R)"
   ]
  },
  {
   "cell_type": "code",
   "execution_count": 108,
   "id": "c279446e-3385-4436-94e8-b335ff15c6bf",
   "metadata": {},
   "outputs": [
    {
     "name": "stdout",
     "output_type": "stream",
     "text": [
      "[[-5.00000000e+00 -2.00000000e+00]\n",
      " [-1.11022302e-15 -4.00000000e+00]\n",
      " [-2.46519033e-31 -8.88178420e-16]]\n"
     ]
    }
   ],
   "source": [
    "print(R)"
   ]
  },
  {
   "cell_type": "markdown",
   "id": "860a4e8e-60f6-4f03-acd2-4b2702391876",
   "metadata": {},
   "source": [
    "## Ejemplo\n",
    "Encuentre un polinomio de grado 3 que ajuste $y=f(x)$  \n",
    "\n",
    "```\n",
    "x  0  2  4  6  9  11  12  15  17  19\n",
    "y  5  6  7  6  9   8   7  10  12  12\n",
    "```\n",
    "es decir $y = a + bx+cx^2+dx^3$"
   ]
  },
  {
   "cell_type": "code",
   "execution_count": 130,
   "id": "2c08daf7-1949-4744-96df-6e2666440103",
   "metadata": {},
   "outputs": [
    {
     "name": "stdout",
     "output_type": "stream",
     "text": [
      "[[1.000e+00 0.000e+00 0.000e+00 0.000e+00]\n",
      " [1.000e+00 2.000e+00 4.000e+00 8.000e+00]\n",
      " [1.000e+00 4.000e+00 1.600e+01 6.400e+01]\n",
      " [1.000e+00 6.000e+00 3.600e+01 2.160e+02]\n",
      " [1.000e+00 9.000e+00 8.100e+01 7.290e+02]\n",
      " [1.000e+00 1.100e+01 1.210e+02 1.331e+03]\n",
      " [1.000e+00 1.200e+01 1.440e+02 1.728e+03]\n",
      " [1.000e+00 1.500e+01 2.250e+02 3.375e+03]\n",
      " [1.000e+00 1.700e+01 2.890e+02 4.913e+03]\n",
      " [1.000e+00 1.900e+01 3.610e+02 6.859e+03]]\n"
     ]
    }
   ],
   "source": [
    "xdata=np.array([0,  2,  4 , 6,  9,  11,  12,  15 , 17,  19],dtype=float)\n",
    "ydata=np.array([5,  6,  7,  6,  9,   8,   7,  10,  12,  12],dtype=float)\n",
    "A = np.array([np.ones_like(x),x,x**2,x**3]).T\n",
    "(Q,R) = factorQR(A)\n",
    "print(A)"
   ]
  },
  {
   "cell_type": "code",
   "execution_count": 158,
   "id": "29ffa5e0-6a1b-4815-958d-2eb997bd81d3",
   "metadata": {},
   "outputs": [],
   "source": [
    "(m,n) = R.shape\n",
    "\n",
    "def sustitucion_regresiva(R,c):\n",
    "    # resuelve Rx=c\n",
    "    (m,n) = R.shape\n",
    "    x=np.zeros(n)\n",
    "    x[n-1] = c[n-1]/R[n-1,n-1]\n",
    "    for i in reversed(range(n-1)):\n",
    "       x[i]= (c[i]-np.dot(x[i+1:n],R[i,i+1:n]) )/R[i,i]\n",
    "    return x\n",
    "        "
   ]
  },
  {
   "cell_type": "code",
   "execution_count": 160,
   "id": "bef8a25c-f919-47e7-bcbb-448065b89b69",
   "metadata": {},
   "outputs": [
    {
     "name": "stdout",
     "output_type": "stream",
     "text": [
      "[ 5.15844156e+00  4.24470705e-01 -3.04666370e-02  1.50844108e-03]\n"
     ]
    }
   ],
   "source": [
    "# Resolvemos por minimos cuadrados R1* x = Q.T * ydata\n",
    "c = Q.T @ ydata\n",
    "R1 = R[0:n,0:n]\n",
    "c = c[0:n]\n",
    "xsol = sustitucion_regresiva(R1,c)\n",
    "print(xsol)"
   ]
  },
  {
   "cell_type": "code",
   "execution_count": 164,
   "id": "ed46451e-66ec-4e27-b1ba-e0e116bf3f1c",
   "metadata": {},
   "outputs": [
    {
     "data": {
      "text/plain": [
       "[<matplotlib.lines.Line2D at 0x146ce689f10>]"
      ]
     },
     "execution_count": 164,
     "metadata": {},
     "output_type": "execute_result"
    },
    {
     "data": {
      "image/png": "[encoded data removed]",
      "text/plain": [
       "<Figure size 640x480 with 1 Axes>"
      ]
     },
     "metadata": {},
     "output_type": "display_data"
    }
   ],
   "source": [
    "import matplotlib.pyplot as plt\n",
    "plt.plot(xdata,ydata,'r*')\n",
    "y_ajuste = A @ xsol\n",
    "plt.plot(xdata,y_ajuste,'g')"
   ]
  },
  {
   "cell_type": "code",
   "execution_count": 148,
   "id": "155a4fba-0de8-4bc2-b9b4-310059902b77",
   "metadata": {},
   "outputs": [
    {
     "name": "stdout",
     "output_type": "stream",
     "text": [
      "[[-3.16227766e+00 -3.00416378e+01 -4.03822857e+02 -6.07884635e+03]\n",
      " [ 6.55716313e-16  1.93520025e+01  3.66447865e+02  6.47759838e+03]\n",
      " [-8.19017903e-16 -1.50200257e-16  1.03034276e+02  2.95645112e+03]\n",
      " [-7.91102372e-16 -4.39269444e-16  5.79558486e-16 -5.11488088e+02]]\n"
     ]
    }
   ],
   "source": [
    "print(R1)"
   ]
  },
  {
   "cell_type": "code",
   "execution_count": 150,
   "id": "a72fa372-0441-41a9-a142-68f3a9c10f30",
   "metadata": {},
   "outputs": [
    {
     "name": "stdout",
     "output_type": "stream",
     "text": [
      "[-25.93067681   6.82099954   1.32052444  -0.77154964]\n"
     ]
    }
   ],
   "source": [
    "print(c)"
   ]
  },
  {
   "cell_type": "code",
   "execution_count": 162,
   "id": "d3dc1a8d-0abb-44c0-8af4-eb6e5cd91afb",
   "metadata": {},
   "outputs": [
    {
     "data": {
      "text/plain": [
       "array([-3.55271368e-15,  4.44089210e-15, -4.44089210e-15, -4.32986980e-15])"
      ]
     },
     "execution_count": 162,
     "metadata": {},
     "output_type": "execute_result"
    }
   ],
   "source": [
    "R1 @ xsol - c"
   ]
  },
  {
   "cell_type": "code",
   "execution_count": null,
   "id": "cd01dd45-e542-401f-b2db-22f03ca65fb2",
   "metadata": {},
   "outputs": [],
   "source": []
  }
 ],
 "metadata": {
  "kernelspec": {
   "display_name": "Python 3 (ipykernel)",
   "language": "python",
   "name": "python3"
  },
  "language_info": {
   "codemirror_mode": {
    "name": "ipython",
    "version": 3
   },
   "file_extension": ".py",
   "mimetype": "text/x-python",
   "name": "python",
   "nbconvert_exporter": "python",
   "pygments_lexer": "ipython3",
   "version": "3.12.4"
  }
 },
 "nbformat": 4,
 "nbformat_minor": 5
}

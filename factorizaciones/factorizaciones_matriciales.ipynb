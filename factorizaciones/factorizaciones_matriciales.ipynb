{
 "cells": [
  {
   "cell_type": "markdown",
   "metadata": {},
   "source": [
    "# Método Cholesky\n",
    "## Algoritmo\n",
    "![cholesky](alg_chol.png)"
   ]
  },
  {
   "cell_type": "code",
   "execution_count": 2,
   "metadata": {},
   "outputs": [],
   "source": [
    "import numpy as np\n",
    "n=3\n",
    "a = np.array([4,-2,2,-2,2,-4,2,-4,11],\n",
    "             dtype='f').reshape((n,n))"
   ]
  },
  {
   "cell_type": "code",
   "execution_count": 11,
   "metadata": {},
   "outputs": [],
   "source": [
    "def chol(a):\n",
    "    n = a.shape[0]\n",
    "    l = np.zeros_like(a)\n",
    "    l[0,0]=np.sqrt(a[0,0])\n",
    "    for k in range(n-1):\n",
    "        l[k+1,0]=a[k+1,0]/l[0,0]\n",
    "        for i in range(1,k+1):\n",
    "            l[k+1,i]=(a[k+1,i]-np.dot(l[i,0:i],l[k+1,0:i]))/l[i,i]\n",
    "        l[k+1,k+1]=np.sqrt(a[k+1,k+1]-np.sum(l[k+1,0:k+1]**2))\n",
    "    return l"
   ]
  },
  {
   "cell_type": "code",
   "execution_count": 14,
   "metadata": {},
   "outputs": [
    {
     "name": "stdout",
     "output_type": "stream",
     "text": [
      "[[ 2.  0.  0.]\n",
      " [-1.  1.  0.]\n",
      " [ 1. -3.  1.]]\n"
     ]
    }
   ],
   "source": [
    "l = chol(a)\n",
    "print(l)"
   ]
  },
  {
   "cell_type": "code",
   "execution_count": 15,
   "metadata": {},
   "outputs": [
    {
     "name": "stdout",
     "output_type": "stream",
     "text": [
      "[[ 2.  0.  0.]\n",
      " [-1.  1.  0.]\n",
      " [ 1. -3.  1.]]\n"
     ]
    }
   ],
   "source": [
    "print(np.linalg.cholesky(a))"
   ]
  },
  {
   "cell_type": "code",
   "execution_count": 16,
   "metadata": {},
   "outputs": [
    {
     "data": {
      "text/plain": [
       "array([[ 4., -2.,  2.],\n",
       "       [-2.,  2., -4.],\n",
       "       [ 2., -4., 11.]], dtype=float32)"
      ]
     },
     "execution_count": 16,
     "metadata": {},
     "output_type": "execute_result"
    }
   ],
   "source": [
    "np.dot(l,l.T)"
   ]
  },
  {
   "cell_type": "markdown",
   "metadata": {},
   "source": [
    "## Algoritmo de Gram–Schmidt clásico\n",
    "![Gram–Schmidt clásico](alg_gs.png)"
   ]
  },
  {
   "cell_type": "code",
   "execution_count": 24,
   "metadata": {},
   "outputs": [
    {
     "name": "stdout",
     "output_type": "stream",
     "text": [
      "[[  2.   6. -19.]\n",
      " [  4.   2.   2.]\n",
      " [ -2.  -1.   4.]\n",
      " [  1.   3. -12.]]\n"
     ]
    }
   ],
   "source": [
    "def gs(a):\n",
    "    q=np.array(a)    \n",
    "    (m,n) = a.shape\n",
    "    r=np.zeros((n,n),dtype='f')    \n",
    "    for j in range(n):\n",
    "        v = a[:,j] \n",
    "        for i in range(j-1):\n",
    "            r[i,j]   = q[:,i].dot(a[:,j])\n",
    "            v = v - r[i,j]*q[:,i]\n",
    "        r[j,j]=np.linalg.norm(v)\n",
    "        q[:,j]=v/r[j,j]\n",
    "    return(r,q)\n",
    "\n",
    "\n",
    "a = np.array([2, 6, -19, 4, 2, 2, -2, -1, 4,1,3,-12],dtype='f').reshape(4,3)\n",
    "(u,e) = gs(a)\n",
    "# Comprobamos la factorizacion\n",
    "print(e @ u) "
   ]
  },
  {
   "cell_type": "markdown",
   "metadata": {},
   "source": [
    "## Algoritmo de Gram–Schmidt modificado.\n",
    "![Gram–Schmidt modificado](alg_gs2.png)"
   ]
  },
  {
   "cell_type": "code",
   "execution_count": 26,
   "metadata": {},
   "outputs": [
    {
     "name": "stdout",
     "output_type": "stream",
     "text": [
      "[[  2.   6. -19.]\n",
      " [  4.   2.   2.]\n",
      " [ -2.  -1.   4.]\n",
      " [  1.   3. -12.]]\n"
     ]
    }
   ],
   "source": [
    "def gs2(a):\n",
    "    e=np.zeros_like(a)    \n",
    "    m= a.shape[0]    \n",
    "    n= a.shape[1]\n",
    "    u=np.zeros((n,n),dtype='f')    \n",
    "    for j in range(n):\n",
    "        e[:,j] = a[:,j]\n",
    "        for i in range(j-1):\n",
    "            u[i,j]  = e[:,i].dot(e[:,j])\n",
    "            e[:,j]  = e[:,j]-u[i,j]*e[:,i]\n",
    "        u[j,j]=np.linalg.norm(e[:,j])\n",
    "        e[:,j]=e[:,j]/u[j,j]\n",
    "    return(u,e)\n",
    "\n",
    "a = np.array([2, 6, -19, 4, 2, 2, -2, -1, 4,1,3,-12],dtype='f').reshape(4,3)\n",
    "(u,e) = gs2(a)\n",
    "# Comprobamos la factorizacion\n",
    "print(e @ u)    "
   ]
  },
  {
   "cell_type": "code",
   "execution_count": null,
   "metadata": {},
   "outputs": [],
   "source": []
  }
 ],
 "metadata": {
  "kernelspec": {
   "display_name": "Python 3",
   "language": "python",
   "name": "python3"
  },
  "language_info": {
   "codemirror_mode": {
    "name": "ipython",
    "version": 3
   },
   "file_extension": ".py",
   "mimetype": "text/x-python",
   "name": "python",
   "nbconvert_exporter": "python",
   "pygments_lexer": "ipython3",
   "version": "3.7.3"
  }
 },
 "nbformat": 4,
 "nbformat_minor": 2
}

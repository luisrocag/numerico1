{
 "cells": [
  {
   "cell_type": "markdown",
   "id": "bcfc3c64-e23d-46c7-8a85-aeedc2cd5224",
   "metadata": {},
   "source": [
    "# Metodo de descenso mas rápido"
   ]
  },
  {
   "cell_type": "markdown",
   "id": "4a57c670-e2d6-40d5-96dc-f940eb2a424c",
   "metadata": {},
   "source": [
    "### Para el metodo de descenso mas rapido y el método de gradiente conjugado la matriz del sistema debe ser\n",
    "### simétrica definida positiva"
   ]
  },
  {
   "cell_type": "code",
   "execution_count": 114,
   "id": "33bf9edf-9690-4bfe-a39d-81d2c10f24e9",
   "metadata": {},
   "outputs": [
    {
     "name": "stdout",
     "output_type": "stream",
     "text": [
      "Converge en 20 iteraciones\n"
     ]
    }
   ],
   "source": [
    "import numpy as np\n",
    "A= np.array([[5,1,2],[1,5,3],[2,3,6]],dtype='f4')\n",
    "b = np.array([[8],[9],[11]],dtype='f4')\n",
    "x = np.zeros_like(b)\n",
    "y = np.zeros_like(b)\n",
    "max_iter=100\n",
    "tol = 1e-5\n",
    "for i in range(max_iter): # es un metodo lento\n",
    "    v = b-A@x #residuo\n",
    "    if (np.linalg.norm(v,2)<tol): # error < tolerancia\n",
    "        break    \n",
    "    t = np.dot(v.T,v)/np.dot(v.T,A@v)     \n",
    "    x = x + t*v    \n",
    "print(f\"Converge en {i} iteraciones\")"
   ]
  },
  {
   "cell_type": "markdown",
   "id": "643ce15c-1b31-4ad3-bfd9-c6113219b66c",
   "metadata": {},
   "source": [
    "### Comprobamos que Ax=b"
   ]
  },
  {
   "cell_type": "code",
   "execution_count": 115,
   "id": "fe39d276-dfb5-43dc-a227-49fef6e9c5c6",
   "metadata": {},
   "outputs": [
    {
     "data": {
      "text/plain": [
       "array([[-9.5367432e-07],\n",
       "       [-3.8146973e-06],\n",
       "       [ 1.9073486e-06]], dtype=float32)"
      ]
     },
     "execution_count": 115,
     "metadata": {},
     "output_type": "execute_result"
    }
   ],
   "source": [
    "A@x-b"
   ]
  },
  {
   "cell_type": "code",
   "execution_count": 116,
   "id": "910223e0-fb94-4e43-846b-cede35de0925",
   "metadata": {},
   "outputs": [
    {
     "data": {
      "text/plain": [
       "4.370285e-06"
      ]
     },
     "execution_count": 116,
     "metadata": {},
     "output_type": "execute_result"
    }
   ],
   "source": [
    "np.linalg.norm(A@x-b,2)"
   ]
  },
  {
   "cell_type": "markdown",
   "id": "087e47f9-efe2-42a8-9aec-7c5939cc281b",
   "metadata": {},
   "source": [
    "# Metodo de gradiente conjugado"
   ]
  },
  {
   "cell_type": "code",
   "execution_count": 117,
   "id": "dfa99583-f95c-40ad-8de4-ada007d2e030",
   "metadata": {},
   "outputs": [
    {
     "name": "stdout",
     "output_type": "stream",
     "text": [
      "Converge en 2 iteraciones\n"
     ]
    }
   ],
   "source": [
    "import numpy as np\n",
    "A= np.array([[5,1,2],[1,5,3],[2,3,6]],dtype='f4')\n",
    "b = np.array([[8],[9],[11]],dtype='f4')\n",
    "x = np.zeros_like(b)\n",
    "r = b - A@x\n",
    "v = r\n",
    "c = np.dot(r.T,r)\n",
    "tol = 1e-5\n",
    "max_iter=100\n",
    "for i in range(max_iter):   \n",
    "    if (np.linalg.norm(v,2)<1e-16):\n",
    "        break\n",
    "    z = A@v\n",
    "    t = c/np.dot(v.T,z)    \n",
    "    x= x + t*v\n",
    "    r = r - t*z\n",
    "    d = np.dot(r.T,r)\n",
    "    if (np.sqrt(d)<tol):\n",
    "        break\n",
    "    v= r + (d/c)*v\n",
    "    c= d   \n",
    "print(f\"Converge en {i} iteraciones\")"
   ]
  },
  {
   "cell_type": "markdown",
   "id": "7c74fa32-4206-456f-8ce8-5175c487278d",
   "metadata": {},
   "source": [
    "### Comprobamos que Ax=b"
   ]
  },
  {
   "cell_type": "code",
   "execution_count": 118,
   "id": "3e34ca96-cfa6-455e-b76b-7f7fb94759da",
   "metadata": {},
   "outputs": [
    {
     "data": {
      "text/plain": [
       "array([[9.5367432e-07],\n",
       "       [1.9073486e-06],\n",
       "       [1.9073486e-06]], dtype=float32)"
      ]
     },
     "execution_count": 118,
     "metadata": {},
     "output_type": "execute_result"
    }
   ],
   "source": [
    "A@x-b"
   ]
  },
  {
   "cell_type": "code",
   "execution_count": 119,
   "id": "fa289777-f047-4713-b637-549fb4150ba3",
   "metadata": {},
   "outputs": [
    {
     "data": {
      "text/plain": [
       "2.861023e-06"
      ]
     },
     "execution_count": 119,
     "metadata": {},
     "output_type": "execute_result"
    }
   ],
   "source": [
    "np.linalg.norm(A@x-b,2)"
   ]
  },
  {
   "cell_type": "markdown",
   "id": "95add93a-177c-4021-bab2-1f8571b06cf6",
   "metadata": {},
   "source": [
    "# Metodo SOR"
   ]
  },
  {
   "cell_type": "code",
   "execution_count": 91,
   "id": "61e44845-afc1-4f7f-883b-2a4b10e0e1f7",
   "metadata": {},
   "outputs": [],
   "source": [
    "A= np.array([[4,2,1],[1,5,3],[1,3,6]],dtype='f4')\n",
    "b = np.array([[7],[9],[10]],dtype='f4')\n",
    "w = 0.7\n",
    "# w=1 -> SOR == GS\n",
    "def metodoSOR(A,b,w):\n",
    "    M = 100\n",
    "    tol = 1e-5\n",
    "    x = np.zeros_like(b)\n",
    "    y = np.zeros_like(b)\n",
    "    n = len(b)    \n",
    "    for k in range(M):\n",
    "        for i in range(n):\n",
    "            x[i,0] =  ( w*(b[i,0] - np.dot(y[i+1:n,0] , A[i,i+1:n])-np.dot(x[0:i,0] , A[i,0:i])) )/A[i,i] + (1-w)*y[i,0]      \n",
    "        error = np.linalg.norm(x-y,np.inf)  \n",
    "        if (error<tol):\n",
    "            break\n",
    "        y[:,:] = x[:,:] \n",
    "    return (x,k)\n"
   ]
  },
  {
   "cell_type": "code",
   "execution_count": 92,
   "id": "eb59ad34-61f5-449c-8b24-bc56358223e2",
   "metadata": {},
   "outputs": [],
   "source": [
    "vector_w =[]\n",
    "vector_k = []\n",
    "num_w= 21\n",
    "for i in range(1,num_w):\n",
    "    w = 2.0*i/num_w\n",
    "    (x,k)= metodoSOR(A,b,w)\n",
    "    vector_w = vector_w + [w]\n",
    "    vector_k = vector_k + [k]"
   ]
  },
  {
   "cell_type": "markdown",
   "id": "ff5873e6-2522-4c2d-9eec-c8e53d4659d8",
   "metadata": {},
   "source": [
    "### Graficamos iteraciones vs w -> hay un w optimo cerca de w=1"
   ]
  },
  {
   "cell_type": "code",
   "execution_count": 93,
   "id": "660ff976-f1ba-4371-9b6a-aad44760e98e",
   "metadata": {},
   "outputs": [
    {
     "data": {
      "text/plain": [
       "[<matplotlib.lines.Line2D at 0x232960e8bf0>]"
      ]
     },
     "execution_count": 93,
     "metadata": {},
     "output_type": "execute_result"
    },
    {
     "data": {
      "image/png": "[encoded data removed]",
      "text/plain": [
       "<Figure size 640x480 with 1 Axes>"
      ]
     },
     "metadata": {},
     "output_type": "display_data"
    }
   ],
   "source": [
    "import matplotlib.pyplot as plt\n",
    "plt.plot(vector_w,vector_k,'*')"
   ]
  },
  {
   "cell_type": "code",
   "execution_count": null,
   "id": "5aead672-fc2c-47a4-9020-9c9dc07f7e0c",
   "metadata": {},
   "outputs": [],
   "source": []
  }
 ],
 "metadata": {
  "kernelspec": {
   "display_name": "Python 3 (ipykernel)",
   "language": "python",
   "name": "python3"
  },
  "language_info": {
   "codemirror_mode": {
    "name": "ipython",
    "version": 3
   },
   "file_extension": ".py",
   "mimetype": "text/x-python",
   "name": "python",
   "nbconvert_exporter": "python",
   "pygments_lexer": "ipython3",
   "version": "3.12.4"
  }
 },
 "nbformat": 4,
 "nbformat_minor": 5
}

{
 "cells": [
  {
   "cell_type": "markdown",
   "metadata": {},
   "source": [
    "# Métodos Iterativos\n",
    "## Método de Jacobi\n",
    "![Algoritmo Jacobi](img242.gif \"Algoritmo Jacobi\")"
   ]
  },
  {
   "cell_type": "code",
   "execution_count": 20,
   "metadata": {},
   "outputs": [
    {
     "name": "stdout",
     "output_type": "stream",
     "text": [
      "x=[1.9997803 3.9998243 3.000035 ]\n",
      "N° Iteraciones=7\n",
      "Tiempo 0.003008127212524414s\n"
     ]
    }
   ],
   "source": [
    "import numpy as np\n",
    "import time\n",
    "def MetJacobiIter(a,b,x0,maxIter,tol):\n",
    "    y=np.array(x0)\n",
    "    x=np.zeros_like(x0)\n",
    "    convergencia=False;n=len(b)\n",
    "    for k in range(maxIter):\n",
    "        for i in range(n):\n",
    "            ix=(np.arange(n)!=i)\n",
    "            s=np.dot(a[i,ix],y[ix])\n",
    "            x[i]=(b[i]-s)/a[i,i]\n",
    "        error = np.linalg.norm(y-x)        \n",
    "        if error<tol:\n",
    "            convergencia=True\n",
    "            break\n",
    "        else:\n",
    "            y[:]=x[:]\n",
    "    return(x,k,convergencia)\n",
    "    \n",
    "n = 3\n",
    "a = np.array([4,-1,1,4,-8,1,-2,1,5],\n",
    "             dtype='f').reshape((n,n))\n",
    "b = np.array([7,-21,15 ],\n",
    "             dtype='f')\n",
    "x0 = np.array([1,2,2],dtype='f'); maxIter=10; tol=1E-3\n",
    "inicio = time.time()\n",
    "(x,numIter,convergencia) = MetJacobiIter(a,b,x0,\n",
    "                maxIter,tol)\n",
    "fin = time.time()\n",
    "if convergencia:\n",
    "    print(\"x={}\".format(x))\n",
    "    print(\"N° Iteraciones={0}\".format(numIter))\n",
    "    print(\"Tiempo {0}s\".format(fin-inicio))\n",
    "else:\n",
    "    print(\"Método no converge.\")\n"
   ]
  },
  {
   "cell_type": "markdown",
   "metadata": {},
   "source": [
    "## Método de Gauss-Seidel\n",
    "![Algoritmo Gauss-Seidel](_9398_figure317.gif \"Algoritmo Gauss-Seidel\")"
   ]
  },
  {
   "cell_type": "code",
   "execution_count": 21,
   "metadata": {},
   "outputs": [
    {
     "name": "stdout",
     "output_type": "stream",
     "text": [
      "x=[1.9999754 3.9999847 2.999993 ]\n",
      "N° Iteraciones=5\n",
      "Tiempo 0.0007269382476806641s\n"
     ]
    }
   ],
   "source": [
    "def MetGaussSeidelIter(a,b,x0,maxIter,tol):\n",
    "    y=np.array(x0);x=np.array(x0)\n",
    "    convergencia=False\n",
    "    n=len(b)\n",
    "    for k in range(maxIter):\n",
    "        for i in range(n):\n",
    "            s=np.dot(a[i,0:i],x[0:i])\n",
    "            s=s+np.dot(a[i,i+1:],x[i+1:])\n",
    "            x[i]=(b[i]-s)/a[i,i]\n",
    "        error = np.linalg.norm(y-x)        \n",
    "        if error<tol:\n",
    "            convergencia=True\n",
    "            break\n",
    "        else:\n",
    "            y[:]=x[:]\n",
    "    return(x,k,convergencia)\n",
    "    \n",
    "#n = 4\n",
    "#a = np.array([5,7,6,5,7,10,8,7,6,8,10,9,5,7,9,10],\n",
    "#             dtype='f').reshape((n,n))\n",
    "#b = np.array([23   ,32   ,33  ,31    ],\n",
    "#             dtype='f')\n",
    "n = 3\n",
    "a = np.array([4,-1,1,4,-8,1,-2,1,5],\n",
    "             dtype='f').reshape((n,n))\n",
    "b = np.array([7,-21,15],\n",
    "             dtype='f')\n",
    "\n",
    "x0 = np.zeros_like(b); maxIter=100; tol=1E-3\n",
    "inicio = time.time()\n",
    "(x,numIter,convergencia) = MetGaussSeidelIter(a,b,x0,maxIter,tol)\n",
    "fin = time.time()\n",
    "if convergencia:\n",
    "    print(\"x={}\".format(x))\n",
    "    print(\"N° Iteraciones={0}\".format(numIter))\n",
    "    print(\"Tiempo {0}s\".format(fin-inicio))\n",
    "else:\n",
    "    print(\"Método no converge.\")"
   ]
  },
  {
   "cell_type": "markdown",
   "metadata": {},
   "source": [
    "## Método de gradiente conjugado"
   ]
  },
  {
   "cell_type": "code",
   "execution_count": 5,
   "metadata": {},
   "outputs": [
    {
     "name": "stdout",
     "output_type": "stream",
     "text": [
      "Método no converge.\n"
     ]
    }
   ],
   "source": [
    "def MetGradConjugado(a,b,x0,maxIter,tol):\n",
    "    x=x0.copy()\n",
    "    r=b-a.dot(x0)\n",
    "    v=r.copy()\n",
    "    c=r.dot(r)\n",
    "    convergencia=False\n",
    "    for k in range(maxIter):\n",
    "        error = np.linalg.norm(v)        \n",
    "        if error<tol:\n",
    "            convergencia=True; break\n",
    "        else:\n",
    "            z=a.dot(v);   t=c/v.dot(z)\n",
    "            x=x+t*v;  r=r-t*z\n",
    "            d=r.dot(r)\n",
    "            if d**2<tol:\n",
    "                convergencia=True;break\n",
    "            else:            \n",
    "                v=r+(d/c)*v;  c=d\n",
    "    return(x,k,r,convergencia)\n",
    "    \n",
    "n = 3\n",
    "a = np.array([4,-1,1,4,-8,1,-2,1,5],\n",
    "             dtype='f').reshape((n,n))\n",
    "b = np.array([7,-21,15 ],\n",
    "             dtype='f')\n",
    "x0 = np.array([1,2,2],dtype='f'); maxIter=100; tol=1E-3\n",
    "(x,numIter,r,convergencia) = MetGradConjugado(a,b,x0,maxIter,tol)\n",
    "if convergencia:\n",
    "    print(\"x={}\".format(x))\n",
    "    print(\"N° Iteraciones={0}\".format(numIter))\n",
    "else:\n",
    "    print(\"Método no converge.\")"
   ]
  },
  {
   "cell_type": "code",
   "execution_count": 6,
   "metadata": {},
   "outputs": [
    {
     "data": {
      "text/plain": [
       "array([ True,  True, False, False, False])"
      ]
     },
     "execution_count": 6,
     "metadata": {},
     "output_type": "execute_result"
    }
   ],
   "source": [
    "np.arange(5)<2"
   ]
  },
  {
   "cell_type": "code",
   "execution_count": null,
   "metadata": {},
   "outputs": [],
   "source": []
  }
 ],
 "metadata": {
  "kernelspec": {
   "display_name": "Python 3",
   "language": "python",
   "name": "python3"
  },
  "language_info": {
   "codemirror_mode": {
    "name": "ipython",
    "version": 3
   },
   "file_extension": ".py",
   "mimetype": "text/x-python",
   "name": "python",
   "nbconvert_exporter": "python",
   "pygments_lexer": "ipython3",
   "version": "3.4.3"
  }
 },
 "nbformat": 4,
 "nbformat_minor": 2
}
